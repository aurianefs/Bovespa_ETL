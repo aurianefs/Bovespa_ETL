{
 "cells": [
  {
   "cell_type": "markdown",
   "id": "dfb772d4",
   "metadata": {},
   "source": [
    "Introdução\n",
    "O objetivo deste projeto é extrair, transformar e carregar dados de ações da Bovespa para análise e previsão de preços, utilizando indicadores financeiros como o MACD. Isso ajudará na tomada de decisões de compra e venda de ações.\n",
    "\n",
    "Ferramentas Utilizadas\n",
    "Utilizamos as bibliotecas pandas e numpy no ambiente de desenvolvimento Jupyter Notebook.\n",
    "\n",
    "Processo ETL\n",
    "Extração: Os dados são carregados de um arquivo CSV:"
   ]
  },
  {
   "cell_type": "code",
   "execution_count": 1,
   "id": "19a60e8d",
   "metadata": {},
   "outputs": [
    {
     "name": "stdout",
     "output_type": "stream",
     "text": [
      "Requirement already satisfied: pandas in c:\\users\\auria\\anaconda3\\lib\\site-packages (1.4.4)\n",
      "Requirement already satisfied: openpyxl in c:\\users\\auria\\anaconda3\\lib\\site-packages (3.0.10)\n",
      "Requirement already satisfied: numpy>=1.18.5 in c:\\users\\auria\\anaconda3\\lib\\site-packages (from pandas) (1.21.5)\n",
      "Requirement already satisfied: python-dateutil>=2.8.1 in c:\\users\\auria\\anaconda3\\lib\\site-packages (from pandas) (2.8.2)\n",
      "Requirement already satisfied: pytz>=2020.1 in c:\\users\\auria\\anaconda3\\lib\\site-packages (from pandas) (2022.1)\n",
      "Requirement already satisfied: et_xmlfile in c:\\users\\auria\\anaconda3\\lib\\site-packages (from openpyxl) (1.1.0)\n",
      "Requirement already satisfied: six>=1.5 in c:\\users\\auria\\anaconda3\\lib\\site-packages (from python-dateutil>=2.8.1->pandas) (1.16.0)\n"
     ]
    }
   ],
   "source": [
    "# Instalando pandas\n",
    "!pip install pandas openpyxl"
   ]
  },
  {
   "cell_type": "code",
   "execution_count": 9,
   "id": "d4b73d86",
   "metadata": {},
   "outputs": [
    {
     "name": "stdout",
     "output_type": "stream",
     "text": [
      "Requirement already satisfied: numpy in c:\\users\\auria\\anaconda3\\lib\\site-packages (1.21.5)\n"
     ]
    }
   ],
   "source": [
    "# Instalando o numpy\n",
    "!pip install numpy\n"
   ]
  },
  {
   "cell_type": "code",
   "execution_count": 10,
   "id": "ea650d0c",
   "metadata": {},
   "outputs": [],
   "source": [
    "# Importando as Bibliotecas\n",
    "import pandas as pd"
   ]
  },
  {
   "cell_type": "code",
   "execution_count": 19,
   "id": "fff1a4c3",
   "metadata": {},
   "outputs": [
    {
     "name": "stdout",
     "output_type": "stream",
     "text": [
      "Index(['data_pregao', 'sigla_acao', 'nome_acao', 'preco_abertura',\n",
      "       'preco_maximo', 'preco_minimo', 'preco_fechamento', 'qtd_negocios',\n",
      "       'volume_negocios'],\n",
      "      dtype='object')\n"
     ]
    }
   ],
   "source": [
    "print(df.columns)\n",
    "\n"
   ]
  },
  {
   "cell_type": "code",
   "execution_count": 41,
   "id": "b0c15ee4",
   "metadata": {},
   "outputs": [
    {
     "name": "stdout",
     "output_type": "stream",
     "text": [
      "        data_pregao  codbdi    sigla_acao     nome_acao  preco_abertura  \\\n",
      "0          20200102     2.0         AALR3        ALLIAR          1829.0   \n",
      "1          20200102     2.0        AAPL34         APPLE         12000.0   \n",
      "2          20200102     2.0         ABCB4    ABC BRASIL          2000.0   \n",
      "3          20200102     2.0         ABEV3     AMBEV S/A          1886.0   \n",
      "4          20200102     2.0         ADHM3   ADVANCED-DH           255.0   \n",
      "...             ...     ...           ...           ...             ...   \n",
      "1251642    20201230    82.0      YDUQN330     YDUQE  FM           248.0   \n",
      "1251643    20201230    82.0      YDUQM340     YDUQE  FM           183.0   \n",
      "1251644    20201230    82.0      YDUQN340     YDUQE  FM           291.0   \n",
      "1251645    20201230    82.0      YDUQO330         YDUQE           285.0   \n",
      "1251646    COTAHIST     0.2  020BOVESPA 2  123000001251             NaN   \n",
      "\n",
      "         preco_maximo  preco_minimo  preco_fechamento  qtd_negocios  \\\n",
      "0              1900.0        1828.0            1900.0      585800.0   \n",
      "1             12134.0       12000.0           12134.0       12700.0   \n",
      "2              2030.0        1982.0            2030.0      870400.0   \n",
      "3              1925.0        1878.0            1920.0    16011300.0   \n",
      "4               255.0         235.0             248.0      193400.0   \n",
      "...               ...           ...               ...           ...   \n",
      "1251642         248.0         226.0             226.0         600.0   \n",
      "1251643         190.0         183.0             190.0        6400.0   \n",
      "1251644         291.0         286.0             286.0        7500.0   \n",
      "1251645         285.0         270.0             270.0        1500.0   \n",
      "1251646           NaN           NaN               NaN           NaN   \n",
      "\n",
      "         volume_negocios  \n",
      "0           1.094620e+09  \n",
      "1           1.533380e+08  \n",
      "2           1.745788e+09  \n",
      "3           3.062348e+10  \n",
      "4           4.719270e+07  \n",
      "...                  ...  \n",
      "1251642     1.466000e+05  \n",
      "1251643     1.173300e+06  \n",
      "1251644     2.175000e+06  \n",
      "1251645     4.125000e+05  \n",
      "1251646              NaN  \n",
      "\n",
      "[1251647 rows x 10 columns]\n"
     ]
    }
   ],
   "source": [
    "import pandas as pd\n",
    "\n",
    "def read_files(path, name_file, year_date, type_file ):\n",
    "    \n",
    "    _file = f'{path}{name_file}{year_date}.{type_file}'\n",
    "    \n",
    "# Especificação das colunas\n",
    "    colspecs = [\n",
    "        (2, 10),\n",
    "        (10, 12),\n",
    "        (12, 24),\n",
    "        (27, 39),\n",
    "        (56, 69),\n",
    "        (69, 82),\n",
    "        (82, 95),\n",
    "        (108, 121),\n",
    "        (152, 170),\n",
    "        (170, 188)\n",
    "    ]\n",
    "\n",
    "# Nomes das colunas\n",
    "    names = [\n",
    "    'data_pregao', \n",
    "    'codbdi', \n",
    "    'sigla_acao', \n",
    "    'nome_acao', \n",
    "    'preco_abertura', \n",
    "    'preco_maximo', \n",
    "    'preco_minimo', \n",
    "    'preco_fechamento', \n",
    "    'qtd_negocios', \n",
    "    'volume_negocios'\n",
    "    ]\n",
    "\n",
    "# Leitura do arquivo com o pandas\n",
    "    df = pd.read_fwf(_file colspecs=colspecs, names=names, skiprows=1)\n",
    "    return df\n",
    "\n"
   ]
  },
  {
   "cell_type": "code",
   "execution_count": 39,
   "id": "316b2fb4",
   "metadata": {},
   "outputs": [
    {
     "name": "stdout",
     "output_type": "stream",
     "text": [
      "Index(['data_pregao', 'codbdi', 'sigla_acao', 'nome_acao', 'preco_abertura',\n",
      "       'preco_maximo', 'preco_minimo', 'preco_fechamento', 'qtd_negocios',\n",
      "       'volume_negocios'],\n",
      "      dtype='object')\n"
     ]
    }
   ],
   "source": [
    "# Remove espaços extras ao redor dos nomes\n",
    "df.columns = df.columns.str.strip()  \n",
    "# Verifique novamente os nomes\n",
    "print(df.columns)  \n"
   ]
  },
  {
   "cell_type": "code",
   "execution_count": 33,
   "id": "211f45b0",
   "metadata": {},
   "outputs": [
    {
     "name": "stdout",
     "output_type": "stream",
     "text": [
      "A coluna 'codbdi' não está presente no DataFrame.\n"
     ]
    }
   ],
   "source": [
    "if 'codbdi' in df.columns:\n",
    "    # Realize as operações somente se a coluna existir\n",
    "    df = df[df['codbdi'] == 2]  # Filtra linhas onde 'codbdi' é igual a 2\n",
    "    df = df.drop(['codbdi'], axis=1)  # Remove a coluna 'codbdi'\n",
    "else:\n",
    "    print(\"A coluna 'codbdi' não está presente no DataFrame.\")\n"
   ]
  },
  {
   "cell_type": "code",
   "execution_count": 35,
   "id": "3bd64c5f",
   "metadata": {},
   "outputs": [
    {
     "name": "stdout",
     "output_type": "stream",
     "text": [
      "  data_pregao sigla_acao    nome_acao  preco_abertura  preco_maximo  \\\n",
      "0    20200102      AALR3       ALLIAR          1829.0        1900.0   \n",
      "1    20200102     AAPL34        APPLE         12000.0       12134.0   \n",
      "2    20200102      ABCB4   ABC BRASIL          2000.0        2030.0   \n",
      "3    20200102      ABEV3    AMBEV S/A          1886.0        1925.0   \n",
      "4    20200102      ADHM3  ADVANCED-DH           255.0         255.0   \n",
      "\n",
      "   preco_minimo  preco_fechamento  qtd_negocios  volume_negocios  \n",
      "0        1828.0            1900.0      585800.0     1.094620e+09  \n",
      "1       12000.0           12134.0       12700.0     1.533380e+08  \n",
      "2        1982.0            2030.0      870400.0     1.745788e+09  \n",
      "3        1878.0            1920.0    16011300.0     3.062348e+10  \n",
      "4         235.0             248.0      193400.0     4.719270e+07  \n",
      "Index(['data_pregao', 'sigla_acao', 'nome_acao', 'preco_abertura',\n",
      "       'preco_maximo', 'preco_minimo', 'preco_fechamento', 'qtd_negocios',\n",
      "       'volume_negocios'],\n",
      "      dtype='object')\n"
     ]
    }
   ],
   "source": [
    "# Verifica as primeiras linhas do DataFrame\n",
    "print(df.head()) \n",
    "# Lista todas as colunas do DataFrame\n",
    "print(df.columns)  \n"
   ]
  },
  {
   "cell_type": "code",
   "execution_count": 42,
   "id": "7eeb52d3",
   "metadata": {},
   "outputs": [
    {
     "name": "stdout",
     "output_type": "stream",
     "text": [
      "       data_pregao  codbdi sigla_acao    nome_acao  preco_abertura  \\\n",
      "0         20200102     2.0      AALR3       ALLIAR          1829.0   \n",
      "1         20200102     2.0     AAPL34        APPLE         12000.0   \n",
      "2         20200102     2.0      ABCB4   ABC BRASIL          2000.0   \n",
      "3         20200102     2.0      ABEV3    AMBEV S/A          1886.0   \n",
      "4         20200102     2.0      ADHM3  ADVANCED-DH           255.0   \n",
      "...            ...     ...        ...          ...             ...   \n",
      "294499    20201228     2.0     Z1TO34  ZTO EXPRESS          3672.0   \n",
      "294500    20201229     2.0     Z1TO34  ZTO EXPRESS          3631.0   \n",
      "294501    20201230     2.0     Z1TO34  ZTO EXPRESS          3809.0   \n",
      "294502    20201223     2.0     Z1TS34   ZOETIS INC         20918.0   \n",
      "294503    20201228     2.0     Z1TS34   ZOETIS INC         21214.0   \n",
      "\n",
      "        preco_maximo  preco_minimo  preco_fechamento  qtd_negocios  \\\n",
      "0             1900.0        1828.0            1900.0      585800.0   \n",
      "1            12134.0       12000.0           12134.0       12700.0   \n",
      "2             2030.0        1982.0            2030.0      870400.0   \n",
      "3             1925.0        1878.0            1920.0    16011300.0   \n",
      "4              255.0         235.0             248.0      193400.0   \n",
      "...              ...           ...               ...           ...   \n",
      "294499        3672.0        3672.0            3672.0          30.0   \n",
      "294500        3631.0        3631.0            3631.0         100.0   \n",
      "294501        3809.0        3750.0            3750.0          60.0   \n",
      "294502       20918.0       20918.0           20918.0          50.0   \n",
      "294503       21359.0       21214.0           21359.0           0.0   \n",
      "\n",
      "        volume_negocios  \n",
      "0          1.094620e+09  \n",
      "1          1.533380e+08  \n",
      "2          1.745788e+09  \n",
      "3          3.062348e+10  \n",
      "4          4.719270e+07  \n",
      "...                 ...  \n",
      "294499     1.358600e+05  \n",
      "294500     3.631000e+05  \n",
      "294501     2.295100e+05  \n",
      "294502     1.045900e+06  \n",
      "294503     4.257000e+04  \n",
      "\n",
      "[122226 rows x 10 columns]\n"
     ]
    }
   ],
   "source": [
    "df = df [df['codbdi']== 2]\n",
    "return (df)"
   ]
  },
  {
   "cell_type": "code",
   "execution_count": 43,
   "id": "10377c44",
   "metadata": {},
   "outputs": [
    {
     "name": "stdout",
     "output_type": "stream",
     "text": [
      "       data_pregao sigla_acao    nome_acao  preco_abertura  preco_maximo  \\\n",
      "0         20200102      AALR3       ALLIAR          1829.0        1900.0   \n",
      "1         20200102     AAPL34        APPLE         12000.0       12134.0   \n",
      "2         20200102      ABCB4   ABC BRASIL          2000.0        2030.0   \n",
      "3         20200102      ABEV3    AMBEV S/A          1886.0        1925.0   \n",
      "4         20200102      ADHM3  ADVANCED-DH           255.0         255.0   \n",
      "...            ...        ...          ...             ...           ...   \n",
      "294499    20201228     Z1TO34  ZTO EXPRESS          3672.0        3672.0   \n",
      "294500    20201229     Z1TO34  ZTO EXPRESS          3631.0        3631.0   \n",
      "294501    20201230     Z1TO34  ZTO EXPRESS          3809.0        3809.0   \n",
      "294502    20201223     Z1TS34   ZOETIS INC         20918.0       20918.0   \n",
      "294503    20201228     Z1TS34   ZOETIS INC         21214.0       21359.0   \n",
      "\n",
      "        preco_minimo  preco_fechamento  qtd_negocios  volume_negocios  \n",
      "0             1828.0            1900.0      585800.0     1.094620e+09  \n",
      "1            12000.0           12134.0       12700.0     1.533380e+08  \n",
      "2             1982.0            2030.0      870400.0     1.745788e+09  \n",
      "3             1878.0            1920.0    16011300.0     3.062348e+10  \n",
      "4              235.0             248.0      193400.0     4.719270e+07  \n",
      "...              ...               ...           ...              ...  \n",
      "294499        3672.0            3672.0          30.0     1.358600e+05  \n",
      "294500        3631.0            3631.0         100.0     3.631000e+05  \n",
      "294501        3750.0            3750.0          60.0     2.295100e+05  \n",
      "294502       20918.0           20918.0          50.0     1.045900e+06  \n",
      "294503       21214.0           21359.0           0.0     4.257000e+04  \n",
      "\n",
      "[122226 rows x 9 columns]\n"
     ]
    },
    {
     "name": "stderr",
     "output_type": "stream",
     "text": [
      "C:\\Users\\auria\\AppData\\Local\\Temp\\ipykernel_6840\\656511954.py:1: FutureWarning: In a future version of pandas all arguments of DataFrame.drop except for the argument 'labels' will be keyword-only.\n",
      "  df = df.drop(['codbdi'],1)\n"
     ]
    }
   ],
   "source": [
    "df = df.drop(['codbdi'],1)\n",
    "return (df)"
   ]
  },
  {
   "cell_type": "code",
   "execution_count": 46,
   "id": "2b41c88d",
   "metadata": {},
   "outputs": [
    {
     "name": "stdout",
     "output_type": "stream",
     "text": [
      "       data_pregao sigla_acao    nome_acao  preco_abertura  preco_maximo  \\\n",
      "0       2020-01-02      AALR3       ALLIAR          1829.0        1900.0   \n",
      "19      2020-01-02     ATTB34      ATT INC         15744.0       15744.0   \n",
      "186     2020-01-02      HAPV3      HAPVIDA          6520.0        6708.0   \n",
      "1       2020-01-02     AAPL34        APPLE         12000.0       12134.0   \n",
      "2       2020-01-02      ABCB4   ABC BRASIL          2000.0        2030.0   \n",
      "...            ...        ...          ...             ...           ...   \n",
      "289794  2020-12-30     HPQB34   HP COMPANY         12479.0       12709.0   \n",
      "285561  2020-12-30      ALPA3   ALPARGATAS          3785.0        3810.0   \n",
      "290561  2020-12-30     LMTB34     LOCKHEED        183630.0      183630.0   \n",
      "290699  2020-12-30     M1DB34  MONGODB INC          9495.0        9495.0   \n",
      "292383  2020-12-30      RDNI3          RNI          1137.0        1170.0   \n",
      "\n",
      "        preco_minimo  preco_fechamento  qtd_negocios  volume_negocios  \n",
      "0             1828.0            1900.0      585800.0     1.094620e+09  \n",
      "19           15744.0           15744.0         200.0     3.148800e+06  \n",
      "186           6442.0            6644.0     2600200.0     1.718629e+10  \n",
      "1            12000.0           12134.0       12700.0     1.533380e+08  \n",
      "2             1982.0            2030.0      870400.0     1.745788e+09  \n",
      "...              ...               ...           ...              ...  \n",
      "289794       12479.0           12709.0          10.0     1.894800e+05  \n",
      "285561        3727.0            3810.0        1400.0     5.306700e+06  \n",
      "290561      183630.0          183630.0           0.0     5.508900e+05  \n",
      "290699        9495.0            9495.0           0.0     9.490000e+03  \n",
      "292383        1122.0            1164.0       18900.0     2.178650e+07  \n",
      "\n",
      "[122226 rows x 9 columns]\n"
     ]
    }
   ],
   "source": [
    "# Ajuste campo de datas\n",
    "# Organizar o DataFrame pela coluna 'data_pregao'\n",
    "df parse_date(df)\n",
    "df = df.sort_values(by='data_pregao')\n",
    "df['data_pregao'] = pd.to_datetime(df['data_pregao'], format='%Y%m%d')\n",
    "\n",
    "return (df):\n"
   ]
  },
  {
   "cell_type": "code",
   "execution_count": 47,
   "id": "fb354b55",
   "metadata": {},
   "outputs": [
    {
     "name": "stdout",
     "output_type": "stream",
     "text": [
      "       data_pregao sigla_acao    nome_acao  preco_abertura  preco_maximo  \\\n",
      "0       2020-01-02      AALR3       ALLIAR           18.29         19.00   \n",
      "19      2020-01-02     ATTB34      ATT INC          157.44        157.44   \n",
      "186     2020-01-02      HAPV3      HAPVIDA           65.20         67.08   \n",
      "1       2020-01-02     AAPL34        APPLE          120.00        121.34   \n",
      "2       2020-01-02      ABCB4   ABC BRASIL           20.00         20.30   \n",
      "...            ...        ...          ...             ...           ...   \n",
      "289794  2020-12-30     HPQB34   HP COMPANY          124.79        127.09   \n",
      "285561  2020-12-30      ALPA3   ALPARGATAS           37.85         38.10   \n",
      "290561  2020-12-30     LMTB34     LOCKHEED         1836.30       1836.30   \n",
      "290699  2020-12-30     M1DB34  MONGODB INC           94.95         94.95   \n",
      "292383  2020-12-30      RDNI3          RNI           11.37         11.70   \n",
      "\n",
      "        preco_minimo  preco_fechamento  qtd_negocios  volume_negocios  \n",
      "0              18.28             19.00      585800.0     1.094620e+09  \n",
      "19            157.44            157.44         200.0     3.148800e+06  \n",
      "186            64.42             66.44     2600200.0     1.718629e+10  \n",
      "1             120.00            121.34       12700.0     1.533380e+08  \n",
      "2              19.82             20.30      870400.0     1.745788e+09  \n",
      "...              ...               ...           ...              ...  \n",
      "289794        124.79            127.09          10.0     1.894800e+05  \n",
      "285561         37.27             38.10        1400.0     5.306700e+06  \n",
      "290561       1836.30           1836.30           0.0     5.508900e+05  \n",
      "290699         94.95             94.95           0.0     9.490000e+03  \n",
      "292383         11.22             11.64       18900.0     2.178650e+07  \n",
      "\n",
      "[122226 rows x 9 columns]\n"
     ]
    }
   ],
   "source": [
    "# Ajustes dos campos numéricos\n",
    "\n",
    "def parse_values(df):\n",
    "\n",
    "    df['preco_abertura'] = (df['preco_abertura'] /100).astype(float)\n",
    "    df['preco_maximo'] = (df['preco_maximo'] /100).astype(float)\n",
    "    df['preco_minimo'] = (df['preco_minimo'] /100).astype(float)\n",
    "    df['preco_fechamento'] = (df['preco_fechamento'] /100).astype(float)\n",
    "\n",
    "return(df)"
   ]
  },
  {
   "cell_type": "code",
   "execution_count": 48,
   "id": "9889c8c9",
   "metadata": {},
   "outputs": [
    {
     "data": {
      "text/plain": [
       "data_pregao         datetime64[ns]\n",
       "sigla_acao                  object\n",
       "nome_acao                   object\n",
       "preco_abertura             float64\n",
       "preco_maximo               float64\n",
       "preco_minimo               float64\n",
       "preco_fechamento           float64\n",
       "qtd_negocios               float64\n",
       "volume_negocios            float64\n",
       "dtype: object"
      ]
     },
     "execution_count": 48,
     "metadata": {},
     "output_type": "execute_result"
    }
   ],
   "source": [
    "df.dtypes"
   ]
  },
  {
   "cell_type": "code",
   "execution_count": 57,
   "id": "d47519bf",
   "metadata": {},
   "outputs": [
    {
     "name": "stdout",
     "output_type": "stream",
     "text": [
      "Função concat_files chamada com os argumentos:\n",
      "C:\\Users\\auria\\OneDrive - UFN - Universidade Franciscana\\Desktop\\Potfólio\\Python\\Projetos em Python\\projetoetl file_name 2024 .csv all_bovespa.csv\n"
     ]
    }
   ],
   "source": [
    "def concat_files(path, name_file, year_date, type_file, final_file):\n",
    "    # Implementação da função\n",
    "    print(\"Função concat_files chamada com os argumentos:\")\n",
    "    print(path, name_file, year_date, type_file, final_file)\n",
    "\n",
    "# Chamando a função\n",
    "path = r'C:\\Users\\auria\\OneDrive - UFN - Universidade Franciscana\\Desktop\\Potfólio\\Python\\Projetos em Python\\projetoetl'\n",
    "name_file = 'file_name'\n",
    "year_date = '2024'\n",
    "type_file = '.csv'\n",
    "final_file = 'all_bovespa.csv'\n",
    "\n",
    "concat_files(path, name_file, year_date, type_file, final_file)\n"
   ]
  },
  {
   "cell_type": "code",
   "execution_count": 58,
   "id": "34ef091a",
   "metadata": {},
   "outputs": [
    {
     "name": "stdout",
     "output_type": "stream",
     "text": [
      "Função concat_files chamada com os argumentos:\n",
      "C:/Users/auria/OneDrive - UFN - Universidade Franciscana/Desktop/Potfólio/Python/Projetos em Python/projetoetl COTAHIST_A ['2018', '2019', '2020', '2021', '2022', '2023', '2024'] txt all_bovespa.csv\n"
     ]
    }
   ],
   "source": [
    "# Executando programa de ETL\n",
    "year_date = ['2018', '2019', '2020', '2021', '2022', '2023', '2024']\n",
    "\n",
    "path = 'C:/Users/auria/OneDrive - UFN - Universidade Franciscana/Desktop/Potfólio/Python/Projetos em Python/projetoetl'\n",
    "\n",
    "name_file='COTAHIST_A'\n",
    "\n",
    "type_file ='txt'\n",
    "\n",
    "final_file = 'all_bovespa.csv'\n",
    "\n",
    "concat_files(path, name_file, year_date, type_file, final_file)\n"
   ]
  },
  {
   "cell_type": "code",
   "execution_count": 4,
   "id": "e666c8ae",
   "metadata": {},
   "outputs": [],
   "source": [
    "# Execução da Função ETL"
   ]
  },
  {
   "cell_type": "code",
   "execution_count": 4,
   "id": "5f599250",
   "metadata": {},
   "outputs": [],
   "source": [
    "from prefect import flow, task\n",
    "import pandas as pd\n",
    "import os\n",
    "\n",
    "# Função ETL\n",
    "@task\n",
    "def concat_files(path, name_file, year_date, type_file, final_file):\n",
    "    all_data = []\n",
    "    for year in year_date:\n",
    "        file_path = os.path.join(path, f\"{name_file}{year}.{type_file}\")\n",
    "        data = pd.read_fwf(file_path, colspecs=[\n",
    "            (2, 10), (10, 12), (12, 24), (27, 39),\n",
    "            (56, 69), (69, 82), (82, 95), (108, 121),\n",
    "            (152, 170), (170, 188)\n",
    "        ], names=[\n",
    "            'data_pregao', 'codbdi', 'sigla_acao', 'nome_acao',\n",
    "            'preco_abertura', 'preco_maximo', 'preco_minimo',\n",
    "            'preco_fechamento', 'qtd_negocios', 'volume_negocios'\n",
    "        ], skiprows=1)\n",
    "        data['data_pregao'] = pd.to_datetime(data['data_pregao'], format='%Y%m%d')\n",
    "        data = data[data['codbdi'] == 2]\n",
    "        data = data.drop(columns=['codbdi'])\n",
    "        all_data.append(data)\n",
    "    final_data = pd.concat(all_data, ignore_index=True)\n",
    "    final_data.to_csv(os.path.join(path, final_file), index=False)\n",
    "\n"
   ]
  }
 ],
 "metadata": {
  "kernelspec": {
   "display_name": "Python 3 (ipykernel)",
   "language": "python",
   "name": "python3"
  },
  "language_info": {
   "codemirror_mode": {
    "name": "ipython",
    "version": 3
   },
   "file_extension": ".py",
   "mimetype": "text/x-python",
   "name": "python",
   "nbconvert_exporter": "python",
   "pygments_lexer": "ipython3",
   "version": "3.9.13"
  }
 },
 "nbformat": 4,
 "nbformat_minor": 5
}
